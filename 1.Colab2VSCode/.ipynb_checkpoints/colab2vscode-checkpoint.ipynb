{
 "cells": [
  {
   "cell_type": "markdown",
   "metadata": {},
   "source": [
    "# Link Colab to VScode\n",
    "\n",
    "This is method for connecting Colab to VScode using ssh"
   ]
  },
  {
   "cell_type": "code",
   "execution_count": null,
   "metadata": {
    "colab": {
     "base_uri": "https://localhost:8080/",
     "height": 309
    },
    "executionInfo": {
     "elapsed": 38753,
     "status": "ok",
     "timestamp": 1626066864601,
     "user": {
      "displayName": "maestro kor",
      "photoUrl": "",
      "userId": "00403846950789428110"
     },
     "user_tz": -540
    },
    "id": "Mc8dNmlnBAd1",
    "outputId": "4d18306f-e68f-44f7-8642-a112288bd90e"
   },
   "outputs": [
    {
     "name": "stdout",
     "output_type": "stream",
     "text": [
      "Mounted at /content/gdrive\n",
      "Collecting colab_ssh\n",
      "  Downloading https://files.pythonhosted.org/packages/74/c0/a2d6cc985d9496968b80203105f20c8d3845effa45dd4cb46c22879f1e44/colab_ssh-0.3.15-py3-none-any.whl\n",
      "Installing collected packages: colab-ssh\n",
      "Successfully installed colab-ssh-0.3.15\n"
     ]
    },
    {
     "data": {
      "text/html": [
       "<style>\n",
       "*{\n",
       "\toutline:none;\n",
       "}\n",
       "code{\n",
       "\tdisplay:inline-block;\n",
       "\tpadding:5px 10px;\n",
       "\tbackground: #444;\n",
       "\tborder-radius: 4px;\n",
       "\twhite-space: pre-wrap;\n",
       "\tposition:relative;\n",
       "\tcolor:white;\n",
       "}\n",
       ".copy-code-button{\n",
       "\tfloat:right;\n",
       "\tbackground:#333;\n",
       "\tcolor:white;\n",
       "\tborder: none;\n",
       "\tmargin: 0 0 0 10px;\n",
       "\tcursor: pointer;\n",
       "}\n",
       "p, li{\n",
       "\tmax-width:700px;\n",
       "}\n",
       ".choices{\n",
       "\tdisplay:flex;\n",
       "\tflex: 1 0 auto;\n",
       "}\n",
       ".choice-section{\n",
       "\tborder:solid 1px #555;\n",
       "\tborder-radius: 4px;\n",
       "\tmin-width:300px;\n",
       "\tmargin: 10px 15px 0 0;\n",
       "\tpadding: 0 15px 15px 15px ;\n",
       "}\n",
       ".button{\n",
       "\tpadding: 10px 15px;\n",
       "\tbackground:#333;\n",
       "\tborder-radius: 4px;\n",
       "\tborder:solid 1px #555;\n",
       "\tcolor:white;\n",
       "\tfont-weight:bold;\n",
       "\tcursor:pointer;\n",
       "}\n",
       ".pill{\n",
       "\tpadding:2px 4px;\n",
       "\tborder-radius: 100px;\n",
       "\tbackground-color:#e65858;\n",
       "\tfont-size:12px;\n",
       "\tfont-weight:bold;\n",
       "\tmargin: 0 15px;\n",
       "\tcolor:white;\n",
       "}\n",
       "</style>\n",
       "<details class=\"choice-section\">\n",
       "\t<summary style=\"cursor:pointer\">\n",
       "\t\t<h3 style=\"display:inline-block;margin-top:15px\">⚙️ Client machine configuration<span class=\"pill\">Required</span></h3>\n",
       "\t</summary>\n",
       "\t<p>Don't worry, you only have to do this <b>once per client machine</b>.</p>\n",
       "\t<ol>\n",
       "\t\t<li>Download <a href=\"https://developers.cloudflare.com/argo-tunnel/getting-started/installation\">Cloudflared (Argo Tunnel)</a>, then copy the absolute path to the cloudflare binary</li>\n",
       "\t\t<li>Now, you have to append the following to your SSH config file (usually under ~/.ssh/config):</li>\n",
       "\t</ol>\n",
       "\t<code>Host *.trycloudflare.com\n",
       "\tHostName %h\n",
       "\tUser root\n",
       "\tPort 22\n",
       "\tProxyCommand &ltPUT_THE_ABSOLUTE_CLOUDFLARE_PATH_HERE&gt access ssh --hostname %h\n",
       "\t</code>\n",
       "</details>\n",
       "<div class=\"choices\">\n",
       "\t<div class=\"choice-section\">\n",
       "\t\t<h4>SSH Terminal</h4>\n",
       "\t\t<p>To connect using your terminal, type this command:</p>\n",
       "\t\t<code>ssh frontpage-musicians-kelly-jean.trycloudflare.com</code>\n",
       "\t</div>\n",
       "\t<div class=\"choice-section\">\n",
       "\t\t<h4>VSCode Remote SSH</h4>\n",
       "\t\t<p>You can also connect with VSCode Remote SSH (Ctrl+Shift+P and type \"Connect to Host...\"). Then, paste the following hostname in the opened command palette:</p>\n",
       "\t\t<code>frontpage-musicians-kelly-jean.trycloudflare.com</code>\n",
       "\t</div>\n",
       "</div>\n",
       "\n",
       "<script>\n",
       "// Copy any string\n",
       "function fallbackCopyTextToClipboard(text) {\n",
       "  var textArea = document.createElement(\"textarea\");\n",
       "  textArea.value = text;\n",
       "  \n",
       "  // Avoid scrolling to bottom\n",
       "  textArea.style.top = \"0\";\n",
       "  textArea.style.left = \"0\";\n",
       "  textArea.style.position = \"fixed\";\n",
       "\n",
       "  document.body.appendChild(textArea);\n",
       "  textArea.focus();\n",
       "  textArea.select();\n",
       "\n",
       "  try {\n",
       "    var successful = document.execCommand('copy');\n",
       "    var msg = successful ? 'successful' : 'unsuccessful';\n",
       "    console.log('Fallback: Copying text command was ' + msg);\n",
       "  } catch (err) {\n",
       "    console.error('Fallback: Oops, unable to copy', err);\n",
       "  }\n",
       "\n",
       "  document.body.removeChild(textArea);\n",
       "}\n",
       "\n",
       "// Show the copy button with every code tag\n",
       "document.querySelectorAll('code').forEach(function (codeBlock) {\n",
       "\tconst codeToCopy= codeBlock.innerText;\n",
       "\tvar pre = document.createElement('pre');\n",
       "\tpre.innerText = codeToCopy;\n",
       "    var button = document.createElement('button');\n",
       "    button.className = 'copy-code-button';\n",
       "    button.type = 'button';\n",
       "    button.innerText = 'Copy';\n",
       "\tbutton.onclick = function(){\n",
       "\t\tfallbackCopyTextToClipboard(codeToCopy);\n",
       "\t\tbutton.innerText = 'Copied'\n",
       "\t\tsetTimeout(()=>{\n",
       "\t\t\tbutton.innerText = 'Copy'\n",
       "\t\t},2000)\n",
       "\t}\n",
       "\tcodeBlock.children = pre;\n",
       "\tcodeBlock.prepend(button)\n",
       "});\n",
       "</script>"
      ],
      "text/plain": [
       "<IPython.core.display.HTML object>"
      ]
     },
     "metadata": {
      "tags": []
     },
     "output_type": "display_data"
    }
   ],
   "source": [
    "from google.colab import drive\n",
    "drive.mount('/content/gdrive')\n",
    "# Install colab_ssh on google colab\n",
    "!pip install colab_ssh --upgrade\n",
    "from colab_ssh import launch_ssh_cloudflared, init_git_cloudflared\n",
    "launch_ssh_cloudflared(password=\"test\")\n",
    "# Optional: if you want to clone a github repository\n",
    "# init_git_cloudflared(githubRepositoryUrl)"
   ]
  },
  {
   "cell_type": "markdown",
   "metadata": {},
   "source": [
    "## **This is for Code to prevent Colab from crashing**"
   ]
  },
  {
   "cell_type": "code",
   "execution_count": 5,
   "metadata": {
    "colab": {
     "base_uri": "https://localhost:8080/"
    },
    "executionInfo": {
     "elapsed": 18305,
     "status": "ok",
     "timestamp": 1626240316888,
     "user": {
      "displayName": "maestro kor",
      "photoUrl": "",
      "userId": "00403846950789428110"
     },
     "user_tz": -540
    },
    "id": "g4licSTAoByw",
    "outputId": "f741ddb7-17e7-487a-aaac-12036f9e8736",
    "scrolled": true
   },
   "outputs": [
    {
     "name": "stdout",
     "output_type": "stream",
     "text": [
      "Wed Jul 14 05:24:57 2021       \n",
      "+-----------------------------------------------------------------------------+\n",
      "| NVIDIA-SMI 470.42.01    Driver Version: 460.32.03    CUDA Version: 11.2     |\n",
      "|-------------------------------+----------------------+----------------------+\n",
      "| GPU  Name        Persistence-M| Bus-Id        Disp.A | Volatile Uncorr. ECC |\n",
      "| Fan  Temp  Perf  Pwr:Usage/Cap|         Memory-Usage | GPU-Util  Compute M. |\n",
      "|                               |                      |               MIG M. |\n",
      "|===============================+======================+======================|\n",
      "|   0  Tesla P100-PCIE...  Off  | 00000000:00:04.0 Off |                    0 |\n",
      "| N/A   33C    P0    27W / 250W |      0MiB / 16280MiB |      0%      Default |\n",
      "|                               |                      |                  N/A |\n",
      "+-------------------------------+----------------------+----------------------+\n",
      "                                                                               \n",
      "+-----------------------------------------------------------------------------+\n",
      "| Processes:                                                                  |\n",
      "|  GPU   GI   CI        PID   Type   Process name                  GPU Memory |\n",
      "|        ID   ID                                                   Usage      |\n",
      "|=============================================================================|\n",
      "|  No running processes found                                                 |\n",
      "+-----------------------------------------------------------------------------+\n",
      "Wed Jul 14 05:25:07 2021       \n",
      "+-----------------------------------------------------------------------------+\n",
      "| NVIDIA-SMI 470.42.01    Driver Version: 460.32.03    CUDA Version: 11.2     |\n",
      "|-------------------------------+----------------------+----------------------+\n",
      "| GPU  Name        Persistence-M| Bus-Id        Disp.A | Volatile Uncorr. ECC |\n",
      "| Fan  Temp  Perf  Pwr:Usage/Cap|         Memory-Usage | GPU-Util  Compute M. |\n",
      "|                               |                      |               MIG M. |\n",
      "|===============================+======================+======================|\n",
      "|   0  Tesla P100-PCIE...  Off  | 00000000:00:04.0 Off |                    0 |\n",
      "| N/A   33C    P0    27W / 250W |      0MiB / 16280MiB |      0%      Default |\n",
      "|                               |                      |                  N/A |\n",
      "+-------------------------------+----------------------+----------------------+\n",
      "                                                                               \n",
      "+-----------------------------------------------------------------------------+\n",
      "| Processes:                                                                  |\n",
      "|  GPU   GI   CI        PID   Type   Process name                  GPU Memory |\n",
      "|        ID   ID                                                   Usage      |\n",
      "|=============================================================================|\n",
      "|  No running processes found                                                 |\n",
      "+-----------------------------------------------------------------------------+\n"
     ]
    }
   ],
   "source": [
    "!nvidia-smi -l 10"
   ]
  },
  {
   "cell_type": "code",
   "execution_count": null,
   "metadata": {
    "id": "C0h06D7CoNmv"
   },
   "outputs": [],
   "source": []
  }
 ],
 "metadata": {
  "accelerator": "GPU",
  "colab": {
   "authorship_tag": "ABX9TyNvs5e+xh9XY19RO/ACtWph",
   "collapsed_sections": [],
   "name": "colab2vscode.ipynb",
   "provenance": []
  },
  "kernelspec": {
   "display_name": "Python 3",
   "language": "python",
   "name": "python3"
  },
  "language_info": {
   "codemirror_mode": {
    "name": "ipython",
    "version": 3
   },
   "file_extension": ".py",
   "mimetype": "text/x-python",
   "name": "python",
   "nbconvert_exporter": "python",
   "pygments_lexer": "ipython3",
   "version": "3.8.8"
  }
 },
 "nbformat": 4,
 "nbformat_minor": 1
}
